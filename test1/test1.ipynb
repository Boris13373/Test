{
 "cells": [
  {
   "cell_type": "code",
   "execution_count": 11,
   "metadata": {},
   "outputs": [],
   "source": [
    "from pymongo import MongoClient\n",
    "from pprint import pprint\n"
   ]
  },
  {
   "cell_type": "code",
   "execution_count": 14,
   "metadata": {},
   "outputs": [
    {
     "name": "stdout",
     "output_type": "stream",
     "text": [
      "[{'_id': {'number': '7800000000003'},\n",
      "  'actions': [{'count': 1,\n",
      "               'last': datetime.datetime(2016, 1, 1, 1, 33, 59),\n",
      "               'type': 'delete'},\n",
      "              {'count': 3,\n",
      "               'last': datetime.datetime(2016, 1, 1, 1, 21, 29),\n",
      "               'type': 'read'},\n",
      "              {'count': 1,\n",
      "               'last': datetime.datetime(2016, 1, 1, 1, 33, 59),\n",
      "               'type': 'create'}]},\n",
      " {'_id': {'number': '7800000000000'},\n",
      "  'actions': [{'count': 2,\n",
      "               'last': datetime.datetime(2016, 1, 1, 1, 21, 13),\n",
      "               'type': 'read'},\n",
      "              {'count': 1,\n",
      "               'last': datetime.datetime(2016, 1, 1, 1, 33, 59),\n",
      "               'type': 'create'}]},\n",
      " {'_id': {'number': '7800000000001'},\n",
      "  'actions': [{'count': 3,\n",
      "               'last': datetime.datetime(2016, 1, 1, 1, 59, 53),\n",
      "               'type': 'read'}]},\n",
      " {'_id': {'number': '7800000000002'},\n",
      "  'actions': [{'count': 3,\n",
      "               'last': datetime.datetime(2016, 1, 1, 1, 33, 59),\n",
      "               'type': 'create'}]},\n",
      " {'_id': {'number': '7800000000004'},\n",
      "  'actions': [{'count': 2,\n",
      "               'last': datetime.datetime(2016, 1, 1, 1, 21, 13),\n",
      "               'type': 'read'},\n",
      "              {'count': 1,\n",
      "               'last': datetime.datetime(2016, 1, 1, 1, 33, 59),\n",
      "               'type': 'create'},\n",
      "              {'count': 1,\n",
      "               'last': datetime.datetime(2016, 1, 1, 7, 10, 12),\n",
      "               'type': 'update'}]}]\n"
     ]
    }
   ],
   "source": [
    "\n",
    "\n",
    "client = MongoClient()\n",
    "db = client.test_database\n",
    "accounts = db.accounts\n",
    "\n",
    "\n",
    "\n",
    "pipeline = [\n",
    "    {\"$unwind\": \"$sessions\"},\n",
    "    {\"$unwind\": \"$sessions.actions\"},\n",
    "    {\"$group\": {\"_id\": {\"number\": \"$number\", \"action\": \"$sessions.actions.type\"},\n",
    "                \"created_at\": {\"$push\": \"$sessions.actions.created_at\"},\n",
    "                \"count\": {\"$sum\": 1}}},\n",
    "    {\"$group\": {\"_id\": {\"number\": \"$_id.number\"},\n",
    "                \"actions\": {\"$push\": {\"type\": \"$_id.action\", \"last\": {\"$max\": \"$created_at\"}, \"count\": \"$count\"}}}}\n",
    "]\n",
    "\n",
    "pprint(list(accounts.aggregate(pipeline)))"
   ]
  },
  {
   "cell_type": "code",
   "execution_count": null,
   "metadata": {},
   "outputs": [],
   "source": []
  }
 ],
 "metadata": {
  "kernelspec": {
   "display_name": "Python 3",
   "language": "python",
   "name": "python3"
  },
  "language_info": {
   "codemirror_mode": {
    "name": "ipython",
    "version": 3
   },
   "file_extension": ".py",
   "mimetype": "text/x-python",
   "name": "python",
   "nbconvert_exporter": "python",
   "pygments_lexer": "ipython3",
   "version": "3.7.6"
  }
 },
 "nbformat": 4,
 "nbformat_minor": 4
}
