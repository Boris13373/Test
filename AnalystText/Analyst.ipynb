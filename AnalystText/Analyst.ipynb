{
 "cells": [
  {
   "cell_type": "code",
   "execution_count": 2,
   "metadata": {},
   "outputs": [],
   "source": [
    "import pandas as pd\n",
    "import numpy as np\n",
    "from matplotlib import pyplot as plt"
   ]
  },
  {
   "cell_type": "markdown",
   "metadata": {},
   "source": [
    "Выгрузим наши данные"
   ]
  },
  {
   "cell_type": "code",
   "execution_count": 5,
   "metadata": {},
   "outputs": [],
   "source": [
    "payments1 = 'payments_CG1.csv'\n",
    "payments2 = 'payments_CG2.csv'\n",
    "payments_test = 'payments_TG.csv'\n",
    "portaint1 = 'portrait_CG1.csv'\n",
    "portaint2 = 'portrait_CG2.csv'\n",
    "portaint_test = 'portrait_TG.csv'"
   ]
  },
  {
   "cell_type": "code",
   "execution_count": 6,
   "metadata": {},
   "outputs": [],
   "source": [
    "payments1_df = pd.read_csv(payments1, sep=';')\n",
    "payments1_df.head()\n",
    "payments_test_df = pd.read_csv(payments_test, sep=';')\n",
    "payments2_df = pd.read_csv(payments2, sep=';')"
   ]
  },
  {
   "cell_type": "code",
   "execution_count": 4,
   "metadata": {},
   "outputs": [
    {
     "data": {
      "text/html": [
       "<div>\n",
       "<style scoped>\n",
       "    .dataframe tbody tr th:only-of-type {\n",
       "        vertical-align: middle;\n",
       "    }\n",
       "\n",
       "    .dataframe tbody tr th {\n",
       "        vertical-align: top;\n",
       "    }\n",
       "\n",
       "    .dataframe thead th {\n",
       "        text-align: right;\n",
       "    }\n",
       "</style>\n",
       "<table border=\"1\" class=\"dataframe\">\n",
       "  <thead>\n",
       "    <tr style=\"text-align: right;\">\n",
       "      <th></th>\n",
       "      <th>user_id</th>\n",
       "      <th>revenue</th>\n",
       "      <th>payment_service_id</th>\n",
       "    </tr>\n",
       "  </thead>\n",
       "  <tbody>\n",
       "    <tr>\n",
       "      <th>count</th>\n",
       "      <td>3.770000e+02</td>\n",
       "      <td>377.000000</td>\n",
       "      <td>377.000000</td>\n",
       "    </tr>\n",
       "    <tr>\n",
       "      <th>mean</th>\n",
       "      <td>8.923612e+08</td>\n",
       "      <td>6929.206897</td>\n",
       "      <td>91.145889</td>\n",
       "    </tr>\n",
       "    <tr>\n",
       "      <th>std</th>\n",
       "      <td>6.162900e+06</td>\n",
       "      <td>8027.889630</td>\n",
       "      <td>58.599773</td>\n",
       "    </tr>\n",
       "    <tr>\n",
       "      <th>min</th>\n",
       "      <td>8.910923e+08</td>\n",
       "      <td>26.000000</td>\n",
       "      <td>0.000000</td>\n",
       "    </tr>\n",
       "    <tr>\n",
       "      <th>25%</th>\n",
       "      <td>8.913833e+08</td>\n",
       "      <td>2730.000000</td>\n",
       "      <td>19.000000</td>\n",
       "    </tr>\n",
       "    <tr>\n",
       "      <th>50%</th>\n",
       "      <td>8.918225e+08</td>\n",
       "      <td>6266.000000</td>\n",
       "      <td>127.000000</td>\n",
       "    </tr>\n",
       "    <tr>\n",
       "      <th>75%</th>\n",
       "      <td>8.921850e+08</td>\n",
       "      <td>6448.000000</td>\n",
       "      <td>147.000000</td>\n",
       "    </tr>\n",
       "    <tr>\n",
       "      <th>max</th>\n",
       "      <td>9.609370e+08</td>\n",
       "      <td>63037.000000</td>\n",
       "      <td>147.000000</td>\n",
       "    </tr>\n",
       "  </tbody>\n",
       "</table>\n",
       "</div>"
      ],
      "text/plain": [
       "            user_id       revenue  payment_service_id\n",
       "count  3.770000e+02    377.000000          377.000000\n",
       "mean   8.923612e+08   6929.206897           91.145889\n",
       "std    6.162900e+06   8027.889630           58.599773\n",
       "min    8.910923e+08     26.000000            0.000000\n",
       "25%    8.913833e+08   2730.000000           19.000000\n",
       "50%    8.918225e+08   6266.000000          127.000000\n",
       "75%    8.921850e+08   6448.000000          147.000000\n",
       "max    9.609370e+08  63037.000000          147.000000"
      ]
     },
     "execution_count": 4,
     "metadata": {},
     "output_type": "execute_result"
    }
   ],
   "source": [
    "payments1_df.describe()"
   ]
  },
  {
   "cell_type": "code",
   "execution_count": 5,
   "metadata": {},
   "outputs": [
    {
     "data": {
      "text/html": [
       "<div>\n",
       "<style scoped>\n",
       "    .dataframe tbody tr th:only-of-type {\n",
       "        vertical-align: middle;\n",
       "    }\n",
       "\n",
       "    .dataframe tbody tr th {\n",
       "        vertical-align: top;\n",
       "    }\n",
       "\n",
       "    .dataframe thead th {\n",
       "        text-align: right;\n",
       "    }\n",
       "</style>\n",
       "<table border=\"1\" class=\"dataframe\">\n",
       "  <thead>\n",
       "    <tr style=\"text-align: right;\">\n",
       "      <th></th>\n",
       "      <th>user_id</th>\n",
       "      <th>registration_date</th>\n",
       "      <th>payment_date</th>\n",
       "      <th>revenue</th>\n",
       "      <th>payment_service_id</th>\n",
       "      <th>place</th>\n",
       "      <th>country</th>\n",
       "      <th>product_type</th>\n",
       "    </tr>\n",
       "  </thead>\n",
       "  <tbody>\n",
       "    <tr>\n",
       "      <th>0</th>\n",
       "      <td>891266616</td>\n",
       "      <td>06.11.2017 15:25</td>\n",
       "      <td>10.11.2017 17:35</td>\n",
       "      <td>6305</td>\n",
       "      <td>19</td>\n",
       "      <td>autorefill</td>\n",
       "      <td>AR</td>\n",
       "      <td>coins</td>\n",
       "    </tr>\n",
       "    <tr>\n",
       "      <th>1</th>\n",
       "      <td>892186737</td>\n",
       "      <td>19.10.2017 6:03</td>\n",
       "      <td>04.11.2017 8:53</td>\n",
       "      <td>4732</td>\n",
       "      <td>147</td>\n",
       "      <td>promo.key31</td>\n",
       "      <td>CL</td>\n",
       "      <td>prem</td>\n",
       "    </tr>\n",
       "    <tr>\n",
       "      <th>2</th>\n",
       "      <td>891959004</td>\n",
       "      <td>24.10.2017 0:12</td>\n",
       "      <td>31.10.2017 2:12</td>\n",
       "      <td>10153</td>\n",
       "      <td>147</td>\n",
       "      <td>TrialVipPopup</td>\n",
       "      <td>US</td>\n",
       "      <td>trial</td>\n",
       "    </tr>\n",
       "    <tr>\n",
       "      <th>3</th>\n",
       "      <td>892115478</td>\n",
       "      <td>20.10.2017 20:39</td>\n",
       "      <td>26.10.2017 6:26</td>\n",
       "      <td>2366</td>\n",
       "      <td>67</td>\n",
       "      <td>EmptyLikes</td>\n",
       "      <td>ES</td>\n",
       "      <td>other</td>\n",
       "    </tr>\n",
       "    <tr>\n",
       "      <th>4</th>\n",
       "      <td>891592941</td>\n",
       "      <td>31.10.2017 12:40</td>\n",
       "      <td>03.11.2017 16:25</td>\n",
       "      <td>6292</td>\n",
       "      <td>147</td>\n",
       "      <td>promo.key31</td>\n",
       "      <td>CH</td>\n",
       "      <td>prem</td>\n",
       "    </tr>\n",
       "  </tbody>\n",
       "</table>\n",
       "</div>"
      ],
      "text/plain": [
       "     user_id registration_date      payment_date  revenue  payment_service_id  \\\n",
       "0  891266616  06.11.2017 15:25  10.11.2017 17:35     6305                  19   \n",
       "1  892186737   19.10.2017 6:03   04.11.2017 8:53     4732                 147   \n",
       "2  891959004   24.10.2017 0:12   31.10.2017 2:12    10153                 147   \n",
       "3  892115478  20.10.2017 20:39   26.10.2017 6:26     2366                  67   \n",
       "4  891592941  31.10.2017 12:40  03.11.2017 16:25     6292                 147   \n",
       "\n",
       "           place country product_type  \n",
       "0     autorefill      AR        coins  \n",
       "1    promo.key31      CL         prem  \n",
       "2  TrialVipPopup      US        trial  \n",
       "3     EmptyLikes      ES        other  \n",
       "4    promo.key31      CH         prem  "
      ]
     },
     "execution_count": 5,
     "metadata": {},
     "output_type": "execute_result"
    }
   ],
   "source": [
    "payments2_df = pd.read_csv(payments2, sep=';')\n",
    "payments2_df.head()"
   ]
  },
  {
   "cell_type": "markdown",
   "metadata": {},
   "source": [
    "Посмотрим на наши датафреймы payments"
   ]
  },
  {
   "cell_type": "code",
   "execution_count": 6,
   "metadata": {},
   "outputs": [
    {
     "name": "stdout",
     "output_type": "stream",
     "text": [
      "<class 'pandas.core.frame.DataFrame'>\n",
      "RangeIndex: 1007 entries, 0 to 1006\n",
      "Data columns (total 8 columns):\n",
      " #   Column              Non-Null Count  Dtype  \n",
      "---  ------              --------------  -----  \n",
      " 0   user_id             377 non-null    float64\n",
      " 1   registration_date   377 non-null    object \n",
      " 2   payment_date        377 non-null    object \n",
      " 3   revenue             377 non-null    float64\n",
      " 4   payment_service_id  377 non-null    float64\n",
      " 5   place               377 non-null    object \n",
      " 6   country             377 non-null    object \n",
      " 7   product_type        377 non-null    object \n",
      "dtypes: float64(3), object(5)\n",
      "memory usage: 63.1+ KB\n"
     ]
    }
   ],
   "source": [
    "payments1_df.info()"
   ]
  },
  {
   "cell_type": "code",
   "execution_count": 7,
   "metadata": {},
   "outputs": [
    {
     "name": "stdout",
     "output_type": "stream",
     "text": [
      "<class 'pandas.core.frame.DataFrame'>\n",
      "RangeIndex: 328 entries, 0 to 327\n",
      "Data columns (total 8 columns):\n",
      " #   Column              Non-Null Count  Dtype \n",
      "---  ------              --------------  ----- \n",
      " 0   user_id             328 non-null    int64 \n",
      " 1   registration_date   328 non-null    object\n",
      " 2   payment_date        328 non-null    object\n",
      " 3   revenue             328 non-null    int64 \n",
      " 4   payment_service_id  328 non-null    int64 \n",
      " 5   place               328 non-null    object\n",
      " 6   country             328 non-null    object\n",
      " 7   product_type        328 non-null    object\n",
      "dtypes: int64(3), object(5)\n",
      "memory usage: 20.6+ KB\n"
     ]
    }
   ],
   "source": [
    "payments2_df.info()"
   ]
  },
  {
   "cell_type": "code",
   "execution_count": 8,
   "metadata": {},
   "outputs": [
    {
     "name": "stdout",
     "output_type": "stream",
     "text": [
      "<class 'pandas.core.frame.DataFrame'>\n",
      "RangeIndex: 273 entries, 0 to 272\n",
      "Data columns (total 8 columns):\n",
      " #   Column              Non-Null Count  Dtype \n",
      "---  ------              --------------  ----- \n",
      " 0   user_id             273 non-null    int64 \n",
      " 1   registration_date   273 non-null    object\n",
      " 2   payment_date        273 non-null    object\n",
      " 3   revenue             273 non-null    int64 \n",
      " 4   payment_service_id  273 non-null    int64 \n",
      " 5   place               273 non-null    object\n",
      " 6   country             273 non-null    object\n",
      " 7   product_type        273 non-null    object\n",
      "dtypes: int64(3), object(5)\n",
      "memory usage: 17.2+ KB\n"
     ]
    }
   ],
   "source": [
    "payments_test_df.info()"
   ]
  },
  {
   "cell_type": "markdown",
   "metadata": {},
   "source": [
    "Видим, что в тестовых данных сильно меньше записей чем в остальных. Поэтому мы можем или удалить записи в контрольных группах или взять случайную выборку из 273 значений как и в наших тестовых данных"
   ]
  },
  {
   "cell_type": "code",
   "execution_count": 9,
   "metadata": {},
   "outputs": [],
   "source": [
    "plt.style.use('fivethirtyeight')"
   ]
  },
  {
   "cell_type": "code",
   "execution_count": 10,
   "metadata": {},
   "outputs": [],
   "source": [
    "payments1_df_g = payments1_df.sample(n=690,random_state=42)"
   ]
  },
  {
   "cell_type": "code",
   "execution_count": 11,
   "metadata": {},
   "outputs": [
    {
     "name": "stdout",
     "output_type": "stream",
     "text": [
      "<class 'pandas.core.frame.DataFrame'>\n",
      "Int64Index: 690 entries, 927 to 36\n",
      "Data columns (total 8 columns):\n",
      " #   Column              Non-Null Count  Dtype  \n",
      "---  ------              --------------  -----  \n",
      " 0   user_id             273 non-null    float64\n",
      " 1   registration_date   273 non-null    object \n",
      " 2   payment_date        273 non-null    object \n",
      " 3   revenue             273 non-null    float64\n",
      " 4   payment_service_id  273 non-null    float64\n",
      " 5   place               273 non-null    object \n",
      " 6   country             273 non-null    object \n",
      " 7   product_type        273 non-null    object \n",
      "dtypes: float64(3), object(5)\n",
      "memory usage: 48.5+ KB\n"
     ]
    }
   ],
   "source": [
    "payments1_df_g.info()"
   ]
  },
  {
   "cell_type": "code",
   "execution_count": 12,
   "metadata": {},
   "outputs": [],
   "source": [
    "payments2_df_g = payments2_df.sample(n=273,random_state=42)\n"
   ]
  },
  {
   "cell_type": "code",
   "execution_count": 13,
   "metadata": {},
   "outputs": [
    {
     "name": "stdout",
     "output_type": "stream",
     "text": [
      "<class 'pandas.core.frame.DataFrame'>\n",
      "Int64Index: 273 entries, 231 to 43\n",
      "Data columns (total 8 columns):\n",
      " #   Column              Non-Null Count  Dtype \n",
      "---  ------              --------------  ----- \n",
      " 0   user_id             273 non-null    int64 \n",
      " 1   registration_date   273 non-null    object\n",
      " 2   payment_date        273 non-null    object\n",
      " 3   revenue             273 non-null    int64 \n",
      " 4   payment_service_id  273 non-null    int64 \n",
      " 5   place               273 non-null    object\n",
      " 6   country             273 non-null    object\n",
      " 7   product_type        273 non-null    object\n",
      "dtypes: int64(3), object(5)\n",
      "memory usage: 19.2+ KB\n"
     ]
    }
   ],
   "source": [
    "payments2_df_g.info()"
   ]
  },
  {
   "cell_type": "code",
   "execution_count": 14,
   "metadata": {},
   "outputs": [
    {
     "data": {
      "image/png": "[encoded data removed]",
      "text/plain": [
       "<Figure size 432x288 with 1 Axes>"
      ]
     },
     "metadata": {},
     "output_type": "display_data"
    }
   ],
   "source": [
    "first_group = payments1_df_g['product_type'].value_counts()\n",
    "test_group = payments_test_df['product_type'].value_counts()\n",
    "first_group.plot(kind='barh', alpha=0.5, label='Первая контрольная группа', color='grey')\n",
    "test_group.plot(kind='barh',alpha=0.5, label='Тестовая группа', color='red')\n",
    "plt.legend()\n",
    "plt.title(\"График payments 1 и тестовой группы\")\n",
    "plt.show()"
   ]
  },
  {
   "cell_type": "code",
   "execution_count": 15,
   "metadata": {},
   "outputs": [
    {
     "data": {
      "image/png": "[encoded data removed]",
      "text/plain": [
       "<Figure size 432x288 with 1 Axes>"
      ]
     },
     "metadata": {},
     "output_type": "display_data"
    }
   ],
   "source": [
    "second_group = payments2_df_g['product_type'].value_counts()\n",
    "test_group = payments_test_df['product_type'].value_counts()\n",
    "second_group.plot(kind='barh', alpha=0.5, label='Вторая контрольная группа', color='grey')\n",
    "test_group.plot(kind='barh',alpha=0.5, label='Тестовая группа', color='red')\n",
    "plt.legend()\n",
    "plt.title(\"График payments 2 и тестовой группы\")\n",
    "plt.show()"
   ]
  },
  {
   "cell_type": "markdown",
   "metadata": {},
   "source": [
    "На графиках видно, что пробную премиум подписку купили больше в тестовой группе и при сравнении тестовой группы со второй видно что премиум подписку купили меньше"
   ]
  },
  {
   "cell_type": "markdown",
   "metadata": {},
   "source": [
    "О чем это может свидетельствовать?\n",
    "1. Люди заинтересованы попробовать премиум подписку\n",
    "2. Люди не готовы платить полноценно за премиум подписку, о чем свидетельствует большая разница Prem в графике сравнения со второй группой\n",
    "\n",
    "Учитывая что стоимось пробной подписки не изменилась можно сделать вывод что интерес пользователей к обладанию премиум аккаунтом вырос и следует продолжить тестировать."
   ]
  },
  {
   "cell_type": "markdown",
   "metadata": {},
   "source": [
    "# Проанализируем срез пользователей"
   ]
  },
  {
   "cell_type": "code",
   "execution_count": 16,
   "metadata": {},
   "outputs": [],
   "source": [
    "portaint1_df = pd.read_csv(portaint1, sep=';')\n",
    "portaint_test_df = pd.read_csv(portaint_test, sep=';')\n",
    "portaint2_df = pd.read_csv(portaint2, sep=';')"
   ]
  },
  {
   "cell_type": "code",
   "execution_count": 17,
   "metadata": {},
   "outputs": [
    {
     "data": {
      "text/html": [
       "<div>\n",
       "<style scoped>\n",
       "    .dataframe tbody tr th:only-of-type {\n",
       "        vertical-align: middle;\n",
       "    }\n",
       "\n",
       "    .dataframe tbody tr th {\n",
       "        vertical-align: top;\n",
       "    }\n",
       "\n",
       "    .dataframe thead th {\n",
       "        text-align: right;\n",
       "    }\n",
       "</style>\n",
       "<table border=\"1\" class=\"dataframe\">\n",
       "  <thead>\n",
       "    <tr style=\"text-align: right;\">\n",
       "      <th></th>\n",
       "      <th>user_id</th>\n",
       "      <th>age</th>\n",
       "      <th>attraction_distribution</th>\n",
       "      <th>coins</th>\n",
       "      <th>sex</th>\n",
       "      <th>user_dating.age_start</th>\n",
       "      <th>user_dating.age_end</th>\n",
       "      <th>view_count</th>\n",
       "      <th>was_special</th>\n",
       "      <th>is_special</th>\n",
       "      <th>total_revenue</th>\n",
       "    </tr>\n",
       "  </thead>\n",
       "  <tbody>\n",
       "    <tr>\n",
       "      <th>count</th>\n",
       "      <td>4.340000e+03</td>\n",
       "      <td>4340.000000</td>\n",
       "      <td>4340.000000</td>\n",
       "      <td>60.0000</td>\n",
       "      <td>4340.000000</td>\n",
       "      <td>4340.000000</td>\n",
       "      <td>4340.000000</td>\n",
       "      <td>4340.000000</td>\n",
       "      <td>436.0</td>\n",
       "      <td>192.0</td>\n",
       "      <td>4340.000000</td>\n",
       "    </tr>\n",
       "    <tr>\n",
       "      <th>mean</th>\n",
       "      <td>8.917578e+08</td>\n",
       "      <td>32.095392</td>\n",
       "      <td>312.048848</td>\n",
       "      <td>1745.9000</td>\n",
       "      <td>0.958065</td>\n",
       "      <td>26.793779</td>\n",
       "      <td>38.553226</td>\n",
       "      <td>44.467512</td>\n",
       "      <td>1.0</td>\n",
       "      <td>1.0</td>\n",
       "      <td>594.761982</td>\n",
       "    </tr>\n",
       "    <tr>\n",
       "      <th>std</th>\n",
       "      <td>1.125683e+06</td>\n",
       "      <td>10.257466</td>\n",
       "      <td>320.972130</td>\n",
       "      <td>12902.3577</td>\n",
       "      <td>0.200465</td>\n",
       "      <td>9.405103</td>\n",
       "      <td>15.226951</td>\n",
       "      <td>204.800272</td>\n",
       "      <td>0.0</td>\n",
       "      <td>0.0</td>\n",
       "      <td>7987.922925</td>\n",
       "    </tr>\n",
       "    <tr>\n",
       "      <th>min</th>\n",
       "      <td>8.910510e+08</td>\n",
       "      <td>16.000000</td>\n",
       "      <td>0.000000</td>\n",
       "      <td>1.0000</td>\n",
       "      <td>0.000000</td>\n",
       "      <td>13.000000</td>\n",
       "      <td>19.000000</td>\n",
       "      <td>0.000000</td>\n",
       "      <td>1.0</td>\n",
       "      <td>1.0</td>\n",
       "      <td>0.000000</td>\n",
       "    </tr>\n",
       "    <tr>\n",
       "      <th>25%</th>\n",
       "      <td>8.913626e+08</td>\n",
       "      <td>24.000000</td>\n",
       "      <td>0.000000</td>\n",
       "      <td>8.0000</td>\n",
       "      <td>1.000000</td>\n",
       "      <td>19.000000</td>\n",
       "      <td>28.000000</td>\n",
       "      <td>1.000000</td>\n",
       "      <td>1.0</td>\n",
       "      <td>1.0</td>\n",
       "      <td>0.000000</td>\n",
       "    </tr>\n",
       "    <tr>\n",
       "      <th>50%</th>\n",
       "      <td>8.917272e+08</td>\n",
       "      <td>30.000000</td>\n",
       "      <td>238.500000</td>\n",
       "      <td>11.5000</td>\n",
       "      <td>1.000000</td>\n",
       "      <td>25.000000</td>\n",
       "      <td>35.000000</td>\n",
       "      <td>6.000000</td>\n",
       "      <td>1.0</td>\n",
       "      <td>1.0</td>\n",
       "      <td>0.000000</td>\n",
       "    </tr>\n",
       "    <tr>\n",
       "      <th>75%</th>\n",
       "      <td>8.920898e+08</td>\n",
       "      <td>38.000000</td>\n",
       "      <td>518.000000</td>\n",
       "      <td>28.0000</td>\n",
       "      <td>1.000000</td>\n",
       "      <td>32.000000</td>\n",
       "      <td>45.000000</td>\n",
       "      <td>21.000000</td>\n",
       "      <td>1.0</td>\n",
       "      <td>1.0</td>\n",
       "      <td>0.000000</td>\n",
       "    </tr>\n",
       "    <tr>\n",
       "      <th>max</th>\n",
       "      <td>9.609370e+08</td>\n",
       "      <td>99.000000</td>\n",
       "      <td>1000.000000</td>\n",
       "      <td>99958.0000</td>\n",
       "      <td>1.000000</td>\n",
       "      <td>96.000000</td>\n",
       "      <td>102.000000</td>\n",
       "      <td>4953.000000</td>\n",
       "      <td>1.0</td>\n",
       "      <td>1.0</td>\n",
       "      <td>486330.000000</td>\n",
       "    </tr>\n",
       "  </tbody>\n",
       "</table>\n",
       "</div>"
      ],
      "text/plain": [
       "            user_id          age  attraction_distribution       coins  \\\n",
       "count  4.340000e+03  4340.000000              4340.000000     60.0000   \n",
       "mean   8.917578e+08    32.095392               312.048848   1745.9000   \n",
       "std    1.125683e+06    10.257466               320.972130  12902.3577   \n",
       "min    8.910510e+08    16.000000                 0.000000      1.0000   \n",
       "25%    8.913626e+08    24.000000                 0.000000      8.0000   \n",
       "50%    8.917272e+08    30.000000               238.500000     11.5000   \n",
       "75%    8.920898e+08    38.000000               518.000000     28.0000   \n",
       "max    9.609370e+08    99.000000              1000.000000  99958.0000   \n",
       "\n",
       "               sex  user_dating.age_start  user_dating.age_end   view_count  \\\n",
       "count  4340.000000            4340.000000          4340.000000  4340.000000   \n",
       "mean      0.958065              26.793779            38.553226    44.467512   \n",
       "std       0.200465               9.405103            15.226951   204.800272   \n",
       "min       0.000000              13.000000            19.000000     0.000000   \n",
       "25%       1.000000              19.000000            28.000000     1.000000   \n",
       "50%       1.000000              25.000000            35.000000     6.000000   \n",
       "75%       1.000000              32.000000            45.000000    21.000000   \n",
       "max       1.000000              96.000000           102.000000  4953.000000   \n",
       "\n",
       "       was_special  is_special  total_revenue  \n",
       "count        436.0       192.0    4340.000000  \n",
       "mean           1.0         1.0     594.761982  \n",
       "std            0.0         0.0    7987.922925  \n",
       "min            1.0         1.0       0.000000  \n",
       "25%            1.0         1.0       0.000000  \n",
       "50%            1.0         1.0       0.000000  \n",
       "75%            1.0         1.0       0.000000  \n",
       "max            1.0         1.0  486330.000000  "
      ]
     },
     "execution_count": 17,
     "metadata": {},
     "output_type": "execute_result"
    }
   ],
   "source": [
    "portaint1_df.describe()"
   ]
  },
  {
   "cell_type": "code",
   "execution_count": 18,
   "metadata": {},
   "outputs": [
    {
     "name": "stdout",
     "output_type": "stream",
     "text": [
      "<class 'pandas.core.frame.DataFrame'>\n",
      "RangeIndex: 4340 entries, 0 to 4339\n",
      "Data columns (total 13 columns):\n",
      " #   Column                   Non-Null Count  Dtype  \n",
      "---  ------                   --------------  -----  \n",
      " 0   user_id                  4340 non-null   int64  \n",
      " 1   age                      4340 non-null   int64  \n",
      " 2   attraction_distribution  4340 non-null   int64  \n",
      " 3   coins                    60 non-null     float64\n",
      " 4   country                  4340 non-null   object \n",
      " 5   retention_days           3016 non-null   object \n",
      " 6   sex                      4340 non-null   int64  \n",
      " 7   user_dating.age_start    4340 non-null   int64  \n",
      " 8   user_dating.age_end      4340 non-null   int64  \n",
      " 9   view_count               4340 non-null   int64  \n",
      " 10  was_special              436 non-null    float64\n",
      " 11  is_special               192 non-null    float64\n",
      " 12  total_revenue            4340 non-null   int64  \n",
      "dtypes: float64(3), int64(8), object(2)\n",
      "memory usage: 440.9+ KB\n"
     ]
    }
   ],
   "source": [
    "portaint1_df.info()"
   ]
  },
  {
   "cell_type": "code",
   "execution_count": 19,
   "metadata": {},
   "outputs": [
    {
     "data": {
      "text/html": [
       "<div>\n",
       "<style scoped>\n",
       "    .dataframe tbody tr th:only-of-type {\n",
       "        vertical-align: middle;\n",
       "    }\n",
       "\n",
       "    .dataframe tbody tr th {\n",
       "        vertical-align: top;\n",
       "    }\n",
       "\n",
       "    .dataframe thead th {\n",
       "        text-align: right;\n",
       "    }\n",
       "</style>\n",
       "<table border=\"1\" class=\"dataframe\">\n",
       "  <thead>\n",
       "    <tr style=\"text-align: right;\">\n",
       "      <th></th>\n",
       "      <th>user_id</th>\n",
       "      <th>age</th>\n",
       "      <th>attraction_distribution</th>\n",
       "      <th>coins</th>\n",
       "      <th>sex</th>\n",
       "      <th>user_dating.age_start</th>\n",
       "      <th>user_dating.age_end</th>\n",
       "      <th>view_count</th>\n",
       "      <th>was_special</th>\n",
       "      <th>is_special</th>\n",
       "      <th>total_revenue</th>\n",
       "    </tr>\n",
       "  </thead>\n",
       "  <tbody>\n",
       "    <tr>\n",
       "      <th>count</th>\n",
       "      <td>4.264000e+03</td>\n",
       "      <td>4264.000000</td>\n",
       "      <td>4264.000000</td>\n",
       "      <td>61.000000</td>\n",
       "      <td>4264.000000</td>\n",
       "      <td>4264.000000</td>\n",
       "      <td>4264.000000</td>\n",
       "      <td>4264.000000</td>\n",
       "      <td>411.0</td>\n",
       "      <td>191.0</td>\n",
       "      <td>4264.000000</td>\n",
       "    </tr>\n",
       "    <tr>\n",
       "      <th>mean</th>\n",
       "      <td>8.917694e+08</td>\n",
       "      <td>32.046201</td>\n",
       "      <td>317.957317</td>\n",
       "      <td>18.147541</td>\n",
       "      <td>0.954268</td>\n",
       "      <td>26.954268</td>\n",
       "      <td>38.906895</td>\n",
       "      <td>45.064493</td>\n",
       "      <td>1.0</td>\n",
       "      <td>1.0</td>\n",
       "      <td>450.384146</td>\n",
       "    </tr>\n",
       "    <tr>\n",
       "      <th>std</th>\n",
       "      <td>2.520759e+06</td>\n",
       "      <td>10.170721</td>\n",
       "      <td>326.191737</td>\n",
       "      <td>35.439543</td>\n",
       "      <td>0.208927</td>\n",
       "      <td>9.546657</td>\n",
       "      <td>15.955574</td>\n",
       "      <td>318.188992</td>\n",
       "      <td>0.0</td>\n",
       "      <td>0.0</td>\n",
       "      <td>2859.242228</td>\n",
       "    </tr>\n",
       "    <tr>\n",
       "      <th>min</th>\n",
       "      <td>8.910509e+08</td>\n",
       "      <td>16.000000</td>\n",
       "      <td>0.000000</td>\n",
       "      <td>1.000000</td>\n",
       "      <td>0.000000</td>\n",
       "      <td>13.000000</td>\n",
       "      <td>19.000000</td>\n",
       "      <td>0.000000</td>\n",
       "      <td>1.0</td>\n",
       "      <td>1.0</td>\n",
       "      <td>0.000000</td>\n",
       "    </tr>\n",
       "    <tr>\n",
       "      <th>25%</th>\n",
       "      <td>8.913453e+08</td>\n",
       "      <td>25.000000</td>\n",
       "      <td>0.000000</td>\n",
       "      <td>4.000000</td>\n",
       "      <td>1.000000</td>\n",
       "      <td>19.000000</td>\n",
       "      <td>28.000000</td>\n",
       "      <td>1.000000</td>\n",
       "      <td>1.0</td>\n",
       "      <td>1.0</td>\n",
       "      <td>0.000000</td>\n",
       "    </tr>\n",
       "    <tr>\n",
       "      <th>50%</th>\n",
       "      <td>8.917205e+08</td>\n",
       "      <td>30.000000</td>\n",
       "      <td>250.000000</td>\n",
       "      <td>10.000000</td>\n",
       "      <td>1.000000</td>\n",
       "      <td>25.000000</td>\n",
       "      <td>35.000000</td>\n",
       "      <td>6.000000</td>\n",
       "      <td>1.0</td>\n",
       "      <td>1.0</td>\n",
       "      <td>0.000000</td>\n",
       "    </tr>\n",
       "    <tr>\n",
       "      <th>75%</th>\n",
       "      <td>8.920735e+08</td>\n",
       "      <td>38.000000</td>\n",
       "      <td>548.500000</td>\n",
       "      <td>20.000000</td>\n",
       "      <td>1.000000</td>\n",
       "      <td>32.000000</td>\n",
       "      <td>45.000000</td>\n",
       "      <td>20.000000</td>\n",
       "      <td>1.0</td>\n",
       "      <td>1.0</td>\n",
       "      <td>0.000000</td>\n",
       "    </tr>\n",
       "    <tr>\n",
       "      <th>max</th>\n",
       "      <td>1.053059e+09</td>\n",
       "      <td>99.000000</td>\n",
       "      <td>1000.000000</td>\n",
       "      <td>271.000000</td>\n",
       "      <td>1.000000</td>\n",
       "      <td>94.000000</td>\n",
       "      <td>99.000000</td>\n",
       "      <td>16157.000000</td>\n",
       "      <td>1.0</td>\n",
       "      <td>1.0</td>\n",
       "      <td>81796.000000</td>\n",
       "    </tr>\n",
       "  </tbody>\n",
       "</table>\n",
       "</div>"
      ],
      "text/plain": [
       "            user_id          age  attraction_distribution       coins  \\\n",
       "count  4.264000e+03  4264.000000              4264.000000   61.000000   \n",
       "mean   8.917694e+08    32.046201               317.957317   18.147541   \n",
       "std    2.520759e+06    10.170721               326.191737   35.439543   \n",
       "min    8.910509e+08    16.000000                 0.000000    1.000000   \n",
       "25%    8.913453e+08    25.000000                 0.000000    4.000000   \n",
       "50%    8.917205e+08    30.000000               250.000000   10.000000   \n",
       "75%    8.920735e+08    38.000000               548.500000   20.000000   \n",
       "max    1.053059e+09    99.000000              1000.000000  271.000000   \n",
       "\n",
       "               sex  user_dating.age_start  user_dating.age_end    view_count  \\\n",
       "count  4264.000000            4264.000000          4264.000000   4264.000000   \n",
       "mean      0.954268              26.954268            38.906895     45.064493   \n",
       "std       0.208927               9.546657            15.955574    318.188992   \n",
       "min       0.000000              13.000000            19.000000      0.000000   \n",
       "25%       1.000000              19.000000            28.000000      1.000000   \n",
       "50%       1.000000              25.000000            35.000000      6.000000   \n",
       "75%       1.000000              32.000000            45.000000     20.000000   \n",
       "max       1.000000              94.000000            99.000000  16157.000000   \n",
       "\n",
       "       was_special  is_special  total_revenue  \n",
       "count        411.0       191.0    4264.000000  \n",
       "mean           1.0         1.0     450.384146  \n",
       "std            0.0         0.0    2859.242228  \n",
       "min            1.0         1.0       0.000000  \n",
       "25%            1.0         1.0       0.000000  \n",
       "50%            1.0         1.0       0.000000  \n",
       "75%            1.0         1.0       0.000000  \n",
       "max            1.0         1.0   81796.000000  "
      ]
     },
     "execution_count": 19,
     "metadata": {},
     "output_type": "execute_result"
    }
   ],
   "source": [
    "portaint2_df.describe()"
   ]
  },
  {
   "cell_type": "code",
   "execution_count": 20,
   "metadata": {},
   "outputs": [
    {
     "name": "stdout",
     "output_type": "stream",
     "text": [
      "<class 'pandas.core.frame.DataFrame'>\n",
      "RangeIndex: 4264 entries, 0 to 4263\n",
      "Data columns (total 13 columns):\n",
      " #   Column                   Non-Null Count  Dtype  \n",
      "---  ------                   --------------  -----  \n",
      " 0   user_id                  4264 non-null   int64  \n",
      " 1   age                      4264 non-null   int64  \n",
      " 2   attraction_distribution  4264 non-null   int64  \n",
      " 3   coins                    61 non-null     float64\n",
      " 4   country                  4264 non-null   object \n",
      " 5   retention_days           2900 non-null   object \n",
      " 6   sex                      4264 non-null   int64  \n",
      " 7   user_dating.age_start    4264 non-null   int64  \n",
      " 8   user_dating.age_end      4264 non-null   int64  \n",
      " 9   view_count               4264 non-null   int64  \n",
      " 10  was_special              411 non-null    float64\n",
      " 11  is_special               191 non-null    float64\n",
      " 12  total_revenue            4264 non-null   int64  \n",
      "dtypes: float64(3), int64(8), object(2)\n",
      "memory usage: 433.2+ KB\n"
     ]
    }
   ],
   "source": [
    "portaint2_df.info()"
   ]
  },
  {
   "cell_type": "code",
   "execution_count": 21,
   "metadata": {},
   "outputs": [
    {
     "data": {
      "text/html": [
       "<div>\n",
       "<style scoped>\n",
       "    .dataframe tbody tr th:only-of-type {\n",
       "        vertical-align: middle;\n",
       "    }\n",
       "\n",
       "    .dataframe tbody tr th {\n",
       "        vertical-align: top;\n",
       "    }\n",
       "\n",
       "    .dataframe thead th {\n",
       "        text-align: right;\n",
       "    }\n",
       "</style>\n",
       "<table border=\"1\" class=\"dataframe\">\n",
       "  <thead>\n",
       "    <tr style=\"text-align: right;\">\n",
       "      <th></th>\n",
       "      <th>user_id</th>\n",
       "      <th>age</th>\n",
       "      <th>attraction_distribution</th>\n",
       "      <th>coins</th>\n",
       "      <th>sex</th>\n",
       "      <th>user_dating.age_start</th>\n",
       "      <th>user_dating.age_end</th>\n",
       "      <th>view_count</th>\n",
       "      <th>was_special</th>\n",
       "      <th>is_special</th>\n",
       "      <th>total_revenue</th>\n",
       "    </tr>\n",
       "  </thead>\n",
       "  <tbody>\n",
       "    <tr>\n",
       "      <th>count</th>\n",
       "      <td>4.308000e+03</td>\n",
       "      <td>4308.000000</td>\n",
       "      <td>4308.000000</td>\n",
       "      <td>49.000000</td>\n",
       "      <td>4308.000000</td>\n",
       "      <td>4308.000000</td>\n",
       "      <td>4308.000000</td>\n",
       "      <td>4308.000000</td>\n",
       "      <td>408.0</td>\n",
       "      <td>157.0</td>\n",
       "      <td>4308.000000</td>\n",
       "    </tr>\n",
       "    <tr>\n",
       "      <th>mean</th>\n",
       "      <td>8.917437e+08</td>\n",
       "      <td>31.889276</td>\n",
       "      <td>316.411328</td>\n",
       "      <td>229.836735</td>\n",
       "      <td>0.953110</td>\n",
       "      <td>26.701486</td>\n",
       "      <td>38.248839</td>\n",
       "      <td>50.391133</td>\n",
       "      <td>1.0</td>\n",
       "      <td>1.0</td>\n",
       "      <td>534.080316</td>\n",
       "    </tr>\n",
       "    <tr>\n",
       "      <th>std</th>\n",
       "      <td>4.547670e+05</td>\n",
       "      <td>10.245287</td>\n",
       "      <td>323.373725</td>\n",
       "      <td>1205.819471</td>\n",
       "      <td>0.211427</td>\n",
       "      <td>9.390851</td>\n",
       "      <td>15.344562</td>\n",
       "      <td>318.676437</td>\n",
       "      <td>0.0</td>\n",
       "      <td>0.0</td>\n",
       "      <td>4371.682632</td>\n",
       "    </tr>\n",
       "    <tr>\n",
       "      <th>min</th>\n",
       "      <td>8.910511e+08</td>\n",
       "      <td>16.000000</td>\n",
       "      <td>0.000000</td>\n",
       "      <td>1.000000</td>\n",
       "      <td>0.000000</td>\n",
       "      <td>13.000000</td>\n",
       "      <td>19.000000</td>\n",
       "      <td>0.000000</td>\n",
       "      <td>1.0</td>\n",
       "      <td>1.0</td>\n",
       "      <td>0.000000</td>\n",
       "    </tr>\n",
       "    <tr>\n",
       "      <th>25%</th>\n",
       "      <td>8.913621e+08</td>\n",
       "      <td>25.000000</td>\n",
       "      <td>0.000000</td>\n",
       "      <td>4.000000</td>\n",
       "      <td>1.000000</td>\n",
       "      <td>19.000000</td>\n",
       "      <td>28.000000</td>\n",
       "      <td>1.000000</td>\n",
       "      <td>1.0</td>\n",
       "      <td>1.0</td>\n",
       "      <td>0.000000</td>\n",
       "    </tr>\n",
       "    <tr>\n",
       "      <th>50%</th>\n",
       "      <td>8.917290e+08</td>\n",
       "      <td>30.000000</td>\n",
       "      <td>250.000000</td>\n",
       "      <td>9.000000</td>\n",
       "      <td>1.000000</td>\n",
       "      <td>24.000000</td>\n",
       "      <td>35.000000</td>\n",
       "      <td>6.000000</td>\n",
       "      <td>1.0</td>\n",
       "      <td>1.0</td>\n",
       "      <td>0.000000</td>\n",
       "    </tr>\n",
       "    <tr>\n",
       "      <th>75%</th>\n",
       "      <td>8.920952e+08</td>\n",
       "      <td>38.000000</td>\n",
       "      <td>520.250000</td>\n",
       "      <td>72.000000</td>\n",
       "      <td>1.000000</td>\n",
       "      <td>32.000000</td>\n",
       "      <td>44.000000</td>\n",
       "      <td>22.000000</td>\n",
       "      <td>1.0</td>\n",
       "      <td>1.0</td>\n",
       "      <td>0.000000</td>\n",
       "    </tr>\n",
       "    <tr>\n",
       "      <th>max</th>\n",
       "      <td>9.051586e+08</td>\n",
       "      <td>99.000000</td>\n",
       "      <td>1000.000000</td>\n",
       "      <td>8466.000000</td>\n",
       "      <td>1.000000</td>\n",
       "      <td>96.000000</td>\n",
       "      <td>102.000000</td>\n",
       "      <td>12831.000000</td>\n",
       "      <td>1.0</td>\n",
       "      <td>1.0</td>\n",
       "      <td>129870.000000</td>\n",
       "    </tr>\n",
       "  </tbody>\n",
       "</table>\n",
       "</div>"
      ],
      "text/plain": [
       "            user_id          age  attraction_distribution        coins  \\\n",
       "count  4.308000e+03  4308.000000              4308.000000    49.000000   \n",
       "mean   8.917437e+08    31.889276               316.411328   229.836735   \n",
       "std    4.547670e+05    10.245287               323.373725  1205.819471   \n",
       "min    8.910511e+08    16.000000                 0.000000     1.000000   \n",
       "25%    8.913621e+08    25.000000                 0.000000     4.000000   \n",
       "50%    8.917290e+08    30.000000               250.000000     9.000000   \n",
       "75%    8.920952e+08    38.000000               520.250000    72.000000   \n",
       "max    9.051586e+08    99.000000              1000.000000  8466.000000   \n",
       "\n",
       "               sex  user_dating.age_start  user_dating.age_end    view_count  \\\n",
       "count  4308.000000            4308.000000          4308.000000   4308.000000   \n",
       "mean      0.953110              26.701486            38.248839     50.391133   \n",
       "std       0.211427               9.390851            15.344562    318.676437   \n",
       "min       0.000000              13.000000            19.000000      0.000000   \n",
       "25%       1.000000              19.000000            28.000000      1.000000   \n",
       "50%       1.000000              24.000000            35.000000      6.000000   \n",
       "75%       1.000000              32.000000            44.000000     22.000000   \n",
       "max       1.000000              96.000000           102.000000  12831.000000   \n",
       "\n",
       "       was_special  is_special  total_revenue  \n",
       "count        408.0       157.0    4308.000000  \n",
       "mean           1.0         1.0     534.080316  \n",
       "std            0.0         0.0    4371.682632  \n",
       "min            1.0         1.0       0.000000  \n",
       "25%            1.0         1.0       0.000000  \n",
       "50%            1.0         1.0       0.000000  \n",
       "75%            1.0         1.0       0.000000  \n",
       "max            1.0         1.0  129870.000000  "
      ]
     },
     "execution_count": 21,
     "metadata": {},
     "output_type": "execute_result"
    }
   ],
   "source": [
    "portaint_test_df.describe()"
   ]
  },
  {
   "cell_type": "code",
   "execution_count": 22,
   "metadata": {},
   "outputs": [
    {
     "name": "stdout",
     "output_type": "stream",
     "text": [
      "<class 'pandas.core.frame.DataFrame'>\n",
      "RangeIndex: 4308 entries, 0 to 4307\n",
      "Data columns (total 13 columns):\n",
      " #   Column                   Non-Null Count  Dtype  \n",
      "---  ------                   --------------  -----  \n",
      " 0   user_id                  4308 non-null   int64  \n",
      " 1   age                      4308 non-null   int64  \n",
      " 2   attraction_distribution  4308 non-null   int64  \n",
      " 3   coins                    49 non-null     float64\n",
      " 4   country                  4308 non-null   object \n",
      " 5   retention_days           2978 non-null   object \n",
      " 6   sex                      4308 non-null   int64  \n",
      " 7   user_dating.age_start    4308 non-null   int64  \n",
      " 8   user_dating.age_end      4308 non-null   int64  \n",
      " 9   view_count               4308 non-null   int64  \n",
      " 10  was_special              408 non-null    float64\n",
      " 11  is_special               157 non-null    float64\n",
      " 12  total_revenue            4308 non-null   int64  \n",
      "dtypes: float64(3), int64(8), object(2)\n",
      "memory usage: 437.7+ KB\n"
     ]
    }
   ],
   "source": [
    "portaint_test_df.info()"
   ]
  },
  {
   "cell_type": "code",
   "execution_count": 23,
   "metadata": {},
   "outputs": [
    {
     "data": {
      "image/png": "[encoded data removed]",
      "text/plain": [
       "<Figure size 432x288 with 1 Axes>"
      ]
     },
     "metadata": {},
     "output_type": "display_data"
    }
   ],
   "source": [
    "first_group_port = portaint1_df['is_special'].value_counts()\n",
    "test_group_port = portaint_test_df['is_special'].value_counts()\n",
    "first_group_port.plot(kind='barh', alpha=0.5, label='Первая контрольная группа', color='grey')\n",
    "test_group_port.plot(kind='barh',alpha=0.5, label='Тестовая группа', color='red')\n",
    "plt.legend()\n",
    "plt.title(\"График is_ special 1 и тестовой группы\")\n",
    "plt.show()\n"
   ]
  },
  {
   "cell_type": "code",
   "execution_count": 24,
   "metadata": {},
   "outputs": [
    {
     "data": {
      "image/png": "[encoded data removed]",
      "text/plain": [
       "<Figure size 432x288 with 1 Axes>"
      ]
     },
     "metadata": {},
     "output_type": "display_data"
    }
   ],
   "source": [
    "second_group_port = portaint2_df['is_special'].value_counts()\n",
    "test_group_port = portaint_test_df['is_special'].value_counts()\n",
    "second_group_port.plot(kind='barh', alpha=0.5, label='Вторая контрольная группа', color='grey')\n",
    "test_group_port.plot(kind='barh',alpha=0.5, label='Тестовая группа', color='red')\n",
    "plt.legend()\n",
    "plt.title(\"График is_special 2 и тестовой группы\")\n",
    "plt.show()"
   ]
  },
  {
   "cell_type": "code",
   "execution_count": 25,
   "metadata": {},
   "outputs": [
    {
     "data": {
      "image/png": "[encoded data removed]",
      "text/plain": [
       "<Figure size 432x288 with 1 Axes>"
      ]
     },
     "metadata": {},
     "output_type": "display_data"
    }
   ],
   "source": [
    "first_group_port = portaint1_df['was_special'].value_counts()\n",
    "test_group_port = portaint_test_df['was_special'].value_counts()\n",
    "first_group_port.plot(kind='barh', alpha=0.5, label='Первая контрольная группа', color='grey')\n",
    "test_group_port.plot(kind='barh',alpha=0.5, label='Тестовая группа', color='red')\n",
    "plt.legend()\n",
    "plt.title(\"График was_ special 1 и тестовой группы\")\n",
    "plt.show()"
   ]
  },
  {
   "cell_type": "code",
   "execution_count": 26,
   "metadata": {},
   "outputs": [
    {
     "data": {
      "image/png": "[encoded data removed]",
      "text/plain": [
       "<Figure size 432x288 with 1 Axes>"
      ]
     },
     "metadata": {},
     "output_type": "display_data"
    }
   ],
   "source": [
    "second_group_port = portaint2_df['was_special'].value_counts()\n",
    "test_group_port = portaint_test_df['was_special'].value_counts()\n",
    "second_group_port.plot(kind='barh', alpha=0.5, label='Вторая контрольная группа', color='grey')\n",
    "test_group_port.plot(kind='barh',alpha=0.5, label='Тестовая группа', color='red')\n",
    "plt.legend()\n",
    "plt.title(\"График was_special 2 и тестовой группы\")\n",
    "plt.show()"
   ]
  },
  {
   "cell_type": "markdown",
   "metadata": {},
   "source": [
    "Исходя из графиков мы понимаем, что премиум статус был примерно у одинакового количества пользователей, однако после удвоения цены на премиум подписку некоторые люди не стали ее продлевать"
   ]
  },
  {
   "cell_type": "markdown",
   "metadata": {},
   "source": [
    "# Влияет ли страна пользователя на наличие премиум аккаунта?"
   ]
  },
  {
   "cell_type": "code",
   "execution_count": 27,
   "metadata": {},
   "outputs": [],
   "source": [
    "portaint1_df.dropna(subset=['is_special'], inplace=True)"
   ]
  },
  {
   "cell_type": "code",
   "execution_count": 28,
   "metadata": {},
   "outputs": [
    {
     "name": "stdout",
     "output_type": "stream",
     "text": [
      "<class 'pandas.core.frame.DataFrame'>\n",
      "Int64Index: 192 entries, 65 to 4332\n",
      "Data columns (total 13 columns):\n",
      " #   Column                   Non-Null Count  Dtype  \n",
      "---  ------                   --------------  -----  \n",
      " 0   user_id                  192 non-null    int64  \n",
      " 1   age                      192 non-null    int64  \n",
      " 2   attraction_distribution  192 non-null    int64  \n",
      " 3   coins                    39 non-null     float64\n",
      " 4   country                  192 non-null    object \n",
      " 5   retention_days           172 non-null    object \n",
      " 6   sex                      192 non-null    int64  \n",
      " 7   user_dating.age_start    192 non-null    int64  \n",
      " 8   user_dating.age_end      192 non-null    int64  \n",
      " 9   view_count               192 non-null    int64  \n",
      " 10  was_special              192 non-null    float64\n",
      " 11  is_special               192 non-null    float64\n",
      " 12  total_revenue            192 non-null    int64  \n",
      "dtypes: float64(3), int64(8), object(2)\n",
      "memory usage: 21.0+ KB\n"
     ]
    }
   ],
   "source": [
    "portaint1_df.info()"
   ]
  },
  {
   "cell_type": "code",
   "execution_count": 29,
   "metadata": {},
   "outputs": [],
   "source": [
    "first1_group_port = portaint1_df.dropna(subset=['is_special'], inplace=True)\n",
    "first1_group_port = portaint1_df['country'].value_counts()\n",
    "first2_group_port = portaint2_df.dropna(subset=['is_special'], inplace=True)\n",
    "first2_group_port = portaint2_df['country'].value_counts()\n",
    "first3_group_port = portaint_test_df.dropna(subset=['is_special'], inplace=True)\n",
    "first3_group_port = portaint_test_df['country'].value_counts()"
   ]
  },
  {
   "cell_type": "code",
   "execution_count": 30,
   "metadata": {},
   "outputs": [
    {
     "data": {
      "image/png": "[encoded data removed]",
      "text/plain": [
       "<Figure size 720x720 with 1 Axes>"
      ]
     },
     "metadata": {},
     "output_type": "display_data"
    }
   ],
   "source": [
    "plt.figure(figsize=(10,10))\n",
    "first1_group_port.plot(kind='barh', alpha=0.5, label='Первая контрольная группа', color='grey')\n",
    "first3_group_port.plot(kind='barh',alpha=0.5, label='Тестовая группа', color='red')\n",
    "plt.legend()\n",
    "plt.show()"
   ]
  },
  {
   "cell_type": "code",
   "execution_count": 31,
   "metadata": {},
   "outputs": [
    {
     "data": {
      "image/png": "[encoded data removed]",
      "text/plain": [
       "<Figure size 720x720 with 1 Axes>"
      ]
     },
     "metadata": {},
     "output_type": "display_data"
    }
   ],
   "source": [
    "plt.figure(figsize=(10,10))\n",
    "first2_group_port.plot(kind='barh', alpha=0.5, label='Вторая контрольная группа', color='grey')\n",
    "first3_group_port.plot(kind='barh',alpha=0.5, label='Тестовая группа', color='red')\n",
    "plt.legend()\n",
    "plt.show()"
   ]
  },
  {
   "cell_type": "markdown",
   "metadata": {},
   "source": [
    "Сравнивая графики мы можем заметить что ES AE позитивно отреагировали на удвоение цены, из этого следует что в следующих тестах можно взять больше людей из этих стран\n",
    "В странах таких как MX AU CH мы видим серьезную просадку по владению премиум аккаунтами. Соответственно из этих стран лучше соктратить количество людей для которых премиум подписка будет по увеличенной стоимости\n"
   ]
  },
  {
   "cell_type": "code",
   "execution_count": 195,
   "metadata": {},
   "outputs": [],
   "source": [
    "portaint1_df = pd.read_csv(portaint1, sep=';')\n",
    "portaint_test_df = pd.read_csv(portaint_test, sep=';')\n",
    "portaint2_df = pd.read_csv(portaint2, sep=';')"
   ]
  },
  {
   "cell_type": "markdown",
   "metadata": {},
   "source": [
    "# Влияет ли attraction_distribution на приобретение премиума?"
   ]
  },
  {
   "cell_type": "code",
   "execution_count": 25,
   "metadata": {},
   "outputs": [
    {
     "data": {
      "text/html": [
       "<div>\n",
       "<style scoped>\n",
       "    .dataframe tbody tr th:only-of-type {\n",
       "        vertical-align: middle;\n",
       "    }\n",
       "\n",
       "    .dataframe tbody tr th {\n",
       "        vertical-align: top;\n",
       "    }\n",
       "\n",
       "    .dataframe thead th {\n",
       "        text-align: right;\n",
       "    }\n",
       "</style>\n",
       "<table border=\"1\" class=\"dataframe\">\n",
       "  <thead>\n",
       "    <tr style=\"text-align: right;\">\n",
       "      <th></th>\n",
       "      <th>user_id</th>\n",
       "      <th>age</th>\n",
       "      <th>attraction_distribution</th>\n",
       "      <th>coins</th>\n",
       "      <th>sex</th>\n",
       "      <th>user_dating.age_start</th>\n",
       "      <th>user_dating.age_end</th>\n",
       "      <th>view_count</th>\n",
       "      <th>was_special</th>\n",
       "      <th>is_special</th>\n",
       "      <th>total_revenue</th>\n",
       "    </tr>\n",
       "  </thead>\n",
       "  <tbody>\n",
       "    <tr>\n",
       "      <th>count</th>\n",
       "      <td>4.308000e+03</td>\n",
       "      <td>4308.000000</td>\n",
       "      <td>4308.000000</td>\n",
       "      <td>49.000000</td>\n",
       "      <td>4308.000000</td>\n",
       "      <td>4308.000000</td>\n",
       "      <td>4308.000000</td>\n",
       "      <td>4308.000000</td>\n",
       "      <td>408.0</td>\n",
       "      <td>157.0</td>\n",
       "      <td>4308.000000</td>\n",
       "    </tr>\n",
       "    <tr>\n",
       "      <th>mean</th>\n",
       "      <td>8.917437e+08</td>\n",
       "      <td>31.889276</td>\n",
       "      <td>316.411328</td>\n",
       "      <td>229.836735</td>\n",
       "      <td>0.953110</td>\n",
       "      <td>26.701486</td>\n",
       "      <td>38.248839</td>\n",
       "      <td>50.391133</td>\n",
       "      <td>1.0</td>\n",
       "      <td>1.0</td>\n",
       "      <td>534.080316</td>\n",
       "    </tr>\n",
       "    <tr>\n",
       "      <th>std</th>\n",
       "      <td>4.547670e+05</td>\n",
       "      <td>10.245287</td>\n",
       "      <td>323.373725</td>\n",
       "      <td>1205.819471</td>\n",
       "      <td>0.211427</td>\n",
       "      <td>9.390851</td>\n",
       "      <td>15.344562</td>\n",
       "      <td>318.676437</td>\n",
       "      <td>0.0</td>\n",
       "      <td>0.0</td>\n",
       "      <td>4371.682632</td>\n",
       "    </tr>\n",
       "    <tr>\n",
       "      <th>min</th>\n",
       "      <td>8.910511e+08</td>\n",
       "      <td>16.000000</td>\n",
       "      <td>0.000000</td>\n",
       "      <td>1.000000</td>\n",
       "      <td>0.000000</td>\n",
       "      <td>13.000000</td>\n",
       "      <td>19.000000</td>\n",
       "      <td>0.000000</td>\n",
       "      <td>1.0</td>\n",
       "      <td>1.0</td>\n",
       "      <td>0.000000</td>\n",
       "    </tr>\n",
       "    <tr>\n",
       "      <th>25%</th>\n",
       "      <td>8.913621e+08</td>\n",
       "      <td>25.000000</td>\n",
       "      <td>0.000000</td>\n",
       "      <td>4.000000</td>\n",
       "      <td>1.000000</td>\n",
       "      <td>19.000000</td>\n",
       "      <td>28.000000</td>\n",
       "      <td>1.000000</td>\n",
       "      <td>1.0</td>\n",
       "      <td>1.0</td>\n",
       "      <td>0.000000</td>\n",
       "    </tr>\n",
       "    <tr>\n",
       "      <th>50%</th>\n",
       "      <td>8.917290e+08</td>\n",
       "      <td>30.000000</td>\n",
       "      <td>250.000000</td>\n",
       "      <td>9.000000</td>\n",
       "      <td>1.000000</td>\n",
       "      <td>24.000000</td>\n",
       "      <td>35.000000</td>\n",
       "      <td>6.000000</td>\n",
       "      <td>1.0</td>\n",
       "      <td>1.0</td>\n",
       "      <td>0.000000</td>\n",
       "    </tr>\n",
       "    <tr>\n",
       "      <th>75%</th>\n",
       "      <td>8.920952e+08</td>\n",
       "      <td>38.000000</td>\n",
       "      <td>520.250000</td>\n",
       "      <td>72.000000</td>\n",
       "      <td>1.000000</td>\n",
       "      <td>32.000000</td>\n",
       "      <td>44.000000</td>\n",
       "      <td>22.000000</td>\n",
       "      <td>1.0</td>\n",
       "      <td>1.0</td>\n",
       "      <td>0.000000</td>\n",
       "    </tr>\n",
       "    <tr>\n",
       "      <th>max</th>\n",
       "      <td>9.051586e+08</td>\n",
       "      <td>99.000000</td>\n",
       "      <td>1000.000000</td>\n",
       "      <td>8466.000000</td>\n",
       "      <td>1.000000</td>\n",
       "      <td>96.000000</td>\n",
       "      <td>102.000000</td>\n",
       "      <td>12831.000000</td>\n",
       "      <td>1.0</td>\n",
       "      <td>1.0</td>\n",
       "      <td>129870.000000</td>\n",
       "    </tr>\n",
       "  </tbody>\n",
       "</table>\n",
       "</div>"
      ],
      "text/plain": [
       "            user_id          age  attraction_distribution        coins  \\\n",
       "count  4.308000e+03  4308.000000              4308.000000    49.000000   \n",
       "mean   8.917437e+08    31.889276               316.411328   229.836735   \n",
       "std    4.547670e+05    10.245287               323.373725  1205.819471   \n",
       "min    8.910511e+08    16.000000                 0.000000     1.000000   \n",
       "25%    8.913621e+08    25.000000                 0.000000     4.000000   \n",
       "50%    8.917290e+08    30.000000               250.000000     9.000000   \n",
       "75%    8.920952e+08    38.000000               520.250000    72.000000   \n",
       "max    9.051586e+08    99.000000              1000.000000  8466.000000   \n",
       "\n",
       "               sex  user_dating.age_start  user_dating.age_end    view_count  \\\n",
       "count  4308.000000            4308.000000          4308.000000   4308.000000   \n",
       "mean      0.953110              26.701486            38.248839     50.391133   \n",
       "std       0.211427               9.390851            15.344562    318.676437   \n",
       "min       0.000000              13.000000            19.000000      0.000000   \n",
       "25%       1.000000              19.000000            28.000000      1.000000   \n",
       "50%       1.000000              24.000000            35.000000      6.000000   \n",
       "75%       1.000000              32.000000            44.000000     22.000000   \n",
       "max       1.000000              96.000000           102.000000  12831.000000   \n",
       "\n",
       "       was_special  is_special  total_revenue  \n",
       "count        408.0       157.0    4308.000000  \n",
       "mean           1.0         1.0     534.080316  \n",
       "std            0.0         0.0    4371.682632  \n",
       "min            1.0         1.0       0.000000  \n",
       "25%            1.0         1.0       0.000000  \n",
       "50%            1.0         1.0       0.000000  \n",
       "75%            1.0         1.0       0.000000  \n",
       "max            1.0         1.0  129870.000000  "
      ]
     },
     "execution_count": 25,
     "metadata": {},
     "output_type": "execute_result"
    }
   ],
   "source": [
    "portaint_test_df.describe()"
   ]
  },
  {
   "cell_type": "code",
   "execution_count": 26,
   "metadata": {},
   "outputs": [
    {
     "name": "stdout",
     "output_type": "stream",
     "text": [
      "<class 'pandas.core.frame.DataFrame'>\n",
      "RangeIndex: 4308 entries, 0 to 4307\n",
      "Data columns (total 13 columns):\n",
      " #   Column                   Non-Null Count  Dtype  \n",
      "---  ------                   --------------  -----  \n",
      " 0   user_id                  4308 non-null   int64  \n",
      " 1   age                      4308 non-null   int64  \n",
      " 2   attraction_distribution  4308 non-null   int64  \n",
      " 3   coins                    49 non-null     float64\n",
      " 4   country                  4308 non-null   object \n",
      " 5   retention_days           2978 non-null   object \n",
      " 6   sex                      4308 non-null   int64  \n",
      " 7   user_dating.age_start    4308 non-null   int64  \n",
      " 8   user_dating.age_end      4308 non-null   int64  \n",
      " 9   view_count               4308 non-null   int64  \n",
      " 10  was_special              408 non-null    float64\n",
      " 11  is_special               157 non-null    float64\n",
      " 12  total_revenue            4308 non-null   int64  \n",
      "dtypes: float64(3), int64(8), object(2)\n",
      "memory usage: 437.7+ KB\n"
     ]
    }
   ],
   "source": [
    "portaint_test_df.info()"
   ]
  },
  {
   "cell_type": "markdown",
   "metadata": {},
   "source": [
    "Посмотрим на нашу тестовую группу, что бы понять насколько больше людей покупают премиум. Так как среднее значение 320 относительно всех от этой цифры и будеи отталкиваться\n"
   ]
  },
  {
   "cell_type": "code",
   "execution_count": 176,
   "metadata": {},
   "outputs": [],
   "source": [
    "attract_1= portaint_test_df.loc[(portaint_test_df['attraction_distribution'] > 320) & (portaint_test_df['is_special'] == 1)]\n",
    "attract_2= portaint_test_df.loc[(portaint_test_df['attraction_distribution'] > 320) & (portaint_test_df['is_special'] != 1)]\n",
    "attract_3= portaint_test_df.loc[(portaint_test_df['attraction_distribution'] < 320) & (portaint_test_df['is_special'] == 1)]\n",
    "attract_4= portaint_test_df.loc[(portaint_test_df['attraction_distribution'] < 320) & (portaint_test_df['is_special'] != 1)]"
   ]
  },
  {
   "cell_type": "code",
   "execution_count": 177,
   "metadata": {},
   "outputs": [
    {
     "name": "stderr",
     "output_type": "stream",
     "text": [
      "C:\\Users\\user\\anaconda3\\lib\\site-packages\\pandas\\core\\frame.py:4153: SettingWithCopyWarning: \n",
      "A value is trying to be set on a copy of a slice from a DataFrame\n",
      "\n",
      "See the caveats in the documentation: https://pandas.pydata.org/pandas-docs/stable/user_guide/indexing.html#returning-a-view-versus-a-copy\n",
      "  downcast=downcast,\n"
     ]
    }
   ],
   "source": [
    "attract_1 = attract_1['is_special'].value_counts()\n",
    "attract_2.fillna('1', inplace=True)\n",
    "attract_4.fillna('1', inplace=True)\n",
    "attract_2 = attract_2['is_special'].value_counts()\n",
    "attract_3 = attract_3['is_special'].value_counts()\n",
    "attract_4 = attract_4['is_special'].value_counts()"
   ]
  },
  {
   "cell_type": "markdown",
   "metadata": {},
   "source": [
    "Установим симит по x = 200 для наглядности"
   ]
  },
  {
   "cell_type": "code",
   "execution_count": 178,
   "metadata": {},
   "outputs": [
    {
     "data": {
      "image/png": "[encoded data removed]",
      "text/plain": [
       "<Figure size 432x288 with 1 Axes>"
      ]
     },
     "metadata": {
      "needs_background": "light"
     },
     "output_type": "display_data"
    }
   ],
   "source": [
    "attract_1.plot(kind='barh', alpha=0.5, label='Количество пользователей с премиумом', color='red')\n",
    "attract_2.plot(kind='barh',alpha=0.5, label='Количество пользователей без премиума', color='grey')\n",
    "plt.title(\"Пользователи с attraction_distribution большем 320\")\n",
    "plt.legend()\n",
    "plt.xlim([0, 200])\n",
    "plt.show()\n"
   ]
  },
  {
   "cell_type": "code",
   "execution_count": 179,
   "metadata": {},
   "outputs": [
    {
     "data": {
      "image/png": "[encoded data removed]",
      "text/plain": [
       "<Figure size 432x288 with 1 Axes>"
      ]
     },
     "metadata": {
      "needs_background": "light"
     },
     "output_type": "display_data"
    }
   ],
   "source": [
    "attract_4.plot(kind='barh', alpha=0.5, label='Количество пользователей с премиумом', color='grey')\n",
    "attract_3.plot(kind='barh',alpha=0.5, label='Количество пользователей без премиума', color='red')\n",
    "plt.title(\"Пользователи с attraction_distribution меньше 320\")\n",
    "plt.xlim([0, 200])\n",
    "plt.legend()\n",
    "plt.show()"
   ]
  },
  {
   "cell_type": "markdown",
   "metadata": {},
   "source": [
    "Во графикам видно, разница небольшая и attraction_distribution практически не влияет на покупку премиума\n"
   ]
  },
  {
   "cell_type": "markdown",
   "metadata": {},
   "source": [
    "# Влияет ли возраст пользователя на покупку премиума?"
   ]
  },
  {
   "cell_type": "markdown",
   "metadata": {},
   "source": [
    "Среднее возраста у нас 31"
   ]
  },
  {
   "cell_type": "code",
   "execution_count": 180,
   "metadata": {},
   "outputs": [],
   "source": [
    "age_1= portaint_test_df.loc[(portaint_test_df['age'] > 31) & (portaint_test_df['is_special'] == 1)]\n",
    "age_2= portaint_test_df.loc[(portaint_test_df['age'] > 31) & (portaint_test_df['is_special'] != 1)]\n",
    "age_3= portaint_test_df.loc[(portaint_test_df['age'] < 31) & (portaint_test_df['is_special'] == 1)]\n",
    "age_4= portaint_test_df.loc[(portaint_test_df['age'] < 31) & (portaint_test_df['is_special'] != 1)]"
   ]
  },
  {
   "cell_type": "code",
   "execution_count": 181,
   "metadata": {},
   "outputs": [
    {
     "name": "stderr",
     "output_type": "stream",
     "text": [
      "C:\\Users\\user\\anaconda3\\lib\\site-packages\\pandas\\core\\frame.py:4153: SettingWithCopyWarning: \n",
      "A value is trying to be set on a copy of a slice from a DataFrame\n",
      "\n",
      "See the caveats in the documentation: https://pandas.pydata.org/pandas-docs/stable/user_guide/indexing.html#returning-a-view-versus-a-copy\n",
      "  downcast=downcast,\n"
     ]
    }
   ],
   "source": [
    "age_1 = age_1['is_special'].value_counts()\n",
    "age_2.fillna('1', inplace=True)\n",
    "age_4.fillna('1', inplace=True)\n",
    "age_2 = age_2['is_special'].value_counts()\n",
    "age_3 = age_3['is_special'].value_counts()\n",
    "age_4 = age_4['is_special'].value_counts()"
   ]
  },
  {
   "cell_type": "code",
   "execution_count": 182,
   "metadata": {},
   "outputs": [
    {
     "data": {
      "image/png": "[encoded data removed]",
      "text/plain": [
       "<Figure size 432x288 with 1 Axes>"
      ]
     },
     "metadata": {
      "needs_background": "light"
     },
     "output_type": "display_data"
    }
   ],
   "source": [
    "age_2.plot(kind='barh', alpha=0.5, label='Количество пользователей без премиумом', color='grey')\n",
    "age_1.plot(kind='barh',alpha=0.5, label='Количество пользователей c премиума', color='red')\n",
    "plt.title(\"Пользователи с age большем 31\")\n",
    "plt.legend()\n",
    "plt.xlim([0, 200])\n",
    "plt.show()\n"
   ]
  },
  {
   "cell_type": "code",
   "execution_count": 207,
   "metadata": {},
   "outputs": [
    {
     "data": {
      "image/png": "[encoded data removed]",
      "text/plain": [
       "<Figure size 432x288 with 1 Axes>"
      ]
     },
     "metadata": {
      "needs_background": "light"
     },
     "output_type": "display_data"
    }
   ],
   "source": [
    "age_4.plot(kind='barh', alpha=0.5, label='Количество пользователей без премиумом', color='grey')\n",
    "age_3.plot(kind='barh',alpha=0.5, label='Количество пользователей с премиума', color='red')\n",
    "plt.title(\"Пользователи с age меньше 31\")\n",
    "plt.legend()\n",
    "plt.xlim([0, 200])\n",
    "plt.show()\n"
   ]
  },
  {
   "cell_type": "markdown",
   "metadata": {},
   "source": [
    "На данных графиках ситуация немного заметнее, чем attraction_distribution, но выводов пока мы никаких сделать не можем\n"
   ]
  },
  {
   "cell_type": "markdown",
   "metadata": {},
   "source": [
    "# Влияет ли количество coins на покупку премиума?"
   ]
  },
  {
   "cell_type": "markdown",
   "metadata": {},
   "source": [
    "В coins очень много пропусков, которые нужно заполнить, поэтому мы их заполняем цифрой 0. Среднее по coins = 2.16 "
   ]
  },
  {
   "cell_type": "code",
   "execution_count": 196,
   "metadata": {},
   "outputs": [],
   "source": [
    "portaint_test_df.fillna({'coins':0}, inplace=True)"
   ]
  },
  {
   "cell_type": "code",
   "execution_count": 197,
   "metadata": {},
   "outputs": [],
   "source": [
    "coins_1= portaint_test_df.loc[(portaint_test_df['coins'] > 2) & (portaint_test_df['is_special'] == 1)]\n",
    "coins_2= portaint_test_df.loc[(portaint_test_df['coins'] > 2) & (portaint_test_df['is_special'] != 1)]\n",
    "coins_3= portaint_test_df.loc[(portaint_test_df['coins'] < 2) & (portaint_test_df['is_special'] == 1)]\n",
    "coins_4= portaint_test_df.loc[(portaint_test_df['coins'] < 2) & (portaint_test_df['is_special'] != 1)]"
   ]
  },
  {
   "cell_type": "code",
   "execution_count": 198,
   "metadata": {},
   "outputs": [
    {
     "data": {
      "text/html": [
       "<div>\n",
       "<style scoped>\n",
       "    .dataframe tbody tr th:only-of-type {\n",
       "        vertical-align: middle;\n",
       "    }\n",
       "\n",
       "    .dataframe tbody tr th {\n",
       "        vertical-align: top;\n",
       "    }\n",
       "\n",
       "    .dataframe thead th {\n",
       "        text-align: right;\n",
       "    }\n",
       "</style>\n",
       "<table border=\"1\" class=\"dataframe\">\n",
       "  <thead>\n",
       "    <tr style=\"text-align: right;\">\n",
       "      <th></th>\n",
       "      <th>user_id</th>\n",
       "      <th>age</th>\n",
       "      <th>attraction_distribution</th>\n",
       "      <th>coins</th>\n",
       "      <th>sex</th>\n",
       "      <th>user_dating.age_start</th>\n",
       "      <th>user_dating.age_end</th>\n",
       "      <th>view_count</th>\n",
       "      <th>was_special</th>\n",
       "      <th>is_special</th>\n",
       "      <th>total_revenue</th>\n",
       "    </tr>\n",
       "  </thead>\n",
       "  <tbody>\n",
       "    <tr>\n",
       "      <th>count</th>\n",
       "      <td>4.308000e+03</td>\n",
       "      <td>4308.000000</td>\n",
       "      <td>4308.000000</td>\n",
       "      <td>4308.000000</td>\n",
       "      <td>4308.000000</td>\n",
       "      <td>4308.000000</td>\n",
       "      <td>4308.000000</td>\n",
       "      <td>4308.000000</td>\n",
       "      <td>408.0</td>\n",
       "      <td>157.0</td>\n",
       "      <td>4308.000000</td>\n",
       "    </tr>\n",
       "    <tr>\n",
       "      <th>mean</th>\n",
       "      <td>8.917437e+08</td>\n",
       "      <td>31.889276</td>\n",
       "      <td>316.411328</td>\n",
       "      <td>2.614206</td>\n",
       "      <td>0.953110</td>\n",
       "      <td>26.701486</td>\n",
       "      <td>38.248839</td>\n",
       "      <td>50.391133</td>\n",
       "      <td>1.0</td>\n",
       "      <td>1.0</td>\n",
       "      <td>534.080316</td>\n",
       "    </tr>\n",
       "    <tr>\n",
       "      <th>std</th>\n",
       "      <td>4.547670e+05</td>\n",
       "      <td>10.245287</td>\n",
       "      <td>323.373725</td>\n",
       "      <td>129.608910</td>\n",
       "      <td>0.211427</td>\n",
       "      <td>9.390851</td>\n",
       "      <td>15.344562</td>\n",
       "      <td>318.676437</td>\n",
       "      <td>0.0</td>\n",
       "      <td>0.0</td>\n",
       "      <td>4371.682632</td>\n",
       "    </tr>\n",
       "    <tr>\n",
       "      <th>min</th>\n",
       "      <td>8.910511e+08</td>\n",
       "      <td>16.000000</td>\n",
       "      <td>0.000000</td>\n",
       "      <td>0.000000</td>\n",
       "      <td>0.000000</td>\n",
       "      <td>13.000000</td>\n",
       "      <td>19.000000</td>\n",
       "      <td>0.000000</td>\n",
       "      <td>1.0</td>\n",
       "      <td>1.0</td>\n",
       "      <td>0.000000</td>\n",
       "    </tr>\n",
       "    <tr>\n",
       "      <th>25%</th>\n",
       "      <td>8.913621e+08</td>\n",
       "      <td>25.000000</td>\n",
       "      <td>0.000000</td>\n",
       "      <td>0.000000</td>\n",
       "      <td>1.000000</td>\n",
       "      <td>19.000000</td>\n",
       "      <td>28.000000</td>\n",
       "      <td>1.000000</td>\n",
       "      <td>1.0</td>\n",
       "      <td>1.0</td>\n",
       "      <td>0.000000</td>\n",
       "    </tr>\n",
       "    <tr>\n",
       "      <th>50%</th>\n",
       "      <td>8.917290e+08</td>\n",
       "      <td>30.000000</td>\n",
       "      <td>250.000000</td>\n",
       "      <td>0.000000</td>\n",
       "      <td>1.000000</td>\n",
       "      <td>24.000000</td>\n",
       "      <td>35.000000</td>\n",
       "      <td>6.000000</td>\n",
       "      <td>1.0</td>\n",
       "      <td>1.0</td>\n",
       "      <td>0.000000</td>\n",
       "    </tr>\n",
       "    <tr>\n",
       "      <th>75%</th>\n",
       "      <td>8.920952e+08</td>\n",
       "      <td>38.000000</td>\n",
       "      <td>520.250000</td>\n",
       "      <td>0.000000</td>\n",
       "      <td>1.000000</td>\n",
       "      <td>32.000000</td>\n",
       "      <td>44.000000</td>\n",
       "      <td>22.000000</td>\n",
       "      <td>1.0</td>\n",
       "      <td>1.0</td>\n",
       "      <td>0.000000</td>\n",
       "    </tr>\n",
       "    <tr>\n",
       "      <th>max</th>\n",
       "      <td>9.051586e+08</td>\n",
       "      <td>99.000000</td>\n",
       "      <td>1000.000000</td>\n",
       "      <td>8466.000000</td>\n",
       "      <td>1.000000</td>\n",
       "      <td>96.000000</td>\n",
       "      <td>102.000000</td>\n",
       "      <td>12831.000000</td>\n",
       "      <td>1.0</td>\n",
       "      <td>1.0</td>\n",
       "      <td>129870.000000</td>\n",
       "    </tr>\n",
       "  </tbody>\n",
       "</table>\n",
       "</div>"
      ],
      "text/plain": [
       "            user_id          age  attraction_distribution        coins  \\\n",
       "count  4.308000e+03  4308.000000              4308.000000  4308.000000   \n",
       "mean   8.917437e+08    31.889276               316.411328     2.614206   \n",
       "std    4.547670e+05    10.245287               323.373725   129.608910   \n",
       "min    8.910511e+08    16.000000                 0.000000     0.000000   \n",
       "25%    8.913621e+08    25.000000                 0.000000     0.000000   \n",
       "50%    8.917290e+08    30.000000               250.000000     0.000000   \n",
       "75%    8.920952e+08    38.000000               520.250000     0.000000   \n",
       "max    9.051586e+08    99.000000              1000.000000  8466.000000   \n",
       "\n",
       "               sex  user_dating.age_start  user_dating.age_end    view_count  \\\n",
       "count  4308.000000            4308.000000          4308.000000   4308.000000   \n",
       "mean      0.953110              26.701486            38.248839     50.391133   \n",
       "std       0.211427               9.390851            15.344562    318.676437   \n",
       "min       0.000000              13.000000            19.000000      0.000000   \n",
       "25%       1.000000              19.000000            28.000000      1.000000   \n",
       "50%       1.000000              24.000000            35.000000      6.000000   \n",
       "75%       1.000000              32.000000            44.000000     22.000000   \n",
       "max       1.000000              96.000000           102.000000  12831.000000   \n",
       "\n",
       "       was_special  is_special  total_revenue  \n",
       "count        408.0       157.0    4308.000000  \n",
       "mean           1.0         1.0     534.080316  \n",
       "std            0.0         0.0    4371.682632  \n",
       "min            1.0         1.0       0.000000  \n",
       "25%            1.0         1.0       0.000000  \n",
       "50%            1.0         1.0       0.000000  \n",
       "75%            1.0         1.0       0.000000  \n",
       "max            1.0         1.0  129870.000000  "
      ]
     },
     "execution_count": 198,
     "metadata": {},
     "output_type": "execute_result"
    }
   ],
   "source": [
    "portaint_test_df.describe()"
   ]
  },
  {
   "cell_type": "code",
   "execution_count": 199,
   "metadata": {},
   "outputs": [
    {
     "name": "stderr",
     "output_type": "stream",
     "text": [
      "C:\\Users\\user\\anaconda3\\lib\\site-packages\\pandas\\core\\frame.py:4153: SettingWithCopyWarning: \n",
      "A value is trying to be set on a copy of a slice from a DataFrame\n",
      "\n",
      "See the caveats in the documentation: https://pandas.pydata.org/pandas-docs/stable/user_guide/indexing.html#returning-a-view-versus-a-copy\n",
      "  downcast=downcast,\n"
     ]
    }
   ],
   "source": [
    "coins_1 = coins_1['is_special'].value_counts()\n",
    "coins_2.fillna('1', inplace=True)\n",
    "coins_4.fillna('1', inplace=True)\n",
    "coins_2 = coins_2['is_special'].value_counts()\n",
    "coins_3 = coins_3['is_special'].value_counts()\n",
    "coins_4 = coins_4['is_special'].value_counts()"
   ]
  },
  {
   "cell_type": "code",
   "execution_count": 208,
   "metadata": {},
   "outputs": [
    {
     "data": {
      "image/png": "[encoded data removed]",
      "text/plain": [
       "<Figure size 432x288 with 1 Axes>"
      ]
     },
     "metadata": {
      "needs_background": "light"
     },
     "output_type": "display_data"
    }
   ],
   "source": [
    "coins_2.plot(kind='barh', alpha=0.5, label='Количество пользователей без премиумом', color='grey')\n",
    "coins_1.plot(kind='barh',alpha=0.5, label='Количество пользователей с премиума', color='red')\n",
    "plt.title(\"Пользователи с coins большем 229\")\n",
    "plt.legend()\n",
    "plt.xlim([0, 100])\n",
    "plt.show()"
   ]
  },
  {
   "cell_type": "code",
   "execution_count": 209,
   "metadata": {},
   "outputs": [
    {
     "data": {
      "image/png": "[encoded data removed]",
      "text/plain": [
       "<Figure size 432x288 with 1 Axes>"
      ]
     },
     "metadata": {
      "needs_background": "light"
     },
     "output_type": "display_data"
    }
   ],
   "source": [
    "coins_4.plot(kind='barh', alpha=0.5, label='Количество пользователей без премиумом', color='grey')\n",
    "coins_3.plot(kind='barh',alpha=0.5, label='Количество пользователей с премиума', color='red')\n",
    "plt.title(\"Пользователи с coins меньше 229\")\n",
    "plt.legend()\n",
    "plt.xlim([0, 5000])\n",
    "plt.show()"
   ]
  },
  {
   "cell_type": "markdown",
   "metadata": {},
   "source": [
    "Очень у малого количества пользователей есть coins, но процент покупки ими премиум аккаунта намного выше чем у людей у которых их почти нет.\n",
    "Тут действительно видна разница и поэтому мы можем сказать что те, у кого есть coins с больше вероятностью купит премиум подписку"
   ]
  },
  {
   "cell_type": "code",
   "execution_count": 210,
   "metadata": {},
   "outputs": [
    {
     "name": "stdout",
     "output_type": "stream",
     "text": [
      "<class 'pandas.core.frame.DataFrame'>\n",
      "RangeIndex: 4308 entries, 0 to 4307\n",
      "Data columns (total 13 columns):\n",
      " #   Column                   Non-Null Count  Dtype  \n",
      "---  ------                   --------------  -----  \n",
      " 0   user_id                  4308 non-null   int64  \n",
      " 1   age                      4308 non-null   int64  \n",
      " 2   attraction_distribution  4308 non-null   int64  \n",
      " 3   coins                    4308 non-null   float64\n",
      " 4   country                  4308 non-null   object \n",
      " 5   retention_days           2978 non-null   object \n",
      " 6   sex                      4308 non-null   int64  \n",
      " 7   user_dating.age_start    4308 non-null   int64  \n",
      " 8   user_dating.age_end      4308 non-null   int64  \n",
      " 9   view_count               4308 non-null   int64  \n",
      " 10  was_special              408 non-null    float64\n",
      " 11  is_special               157 non-null    float64\n",
      " 12  total_revenue            4308 non-null   int64  \n",
      "dtypes: float64(3), int64(8), object(2)\n",
      "memory usage: 437.7+ KB\n"
     ]
    }
   ],
   "source": [
    "portaint_test_df.info()"
   ]
  },
  {
   "cell_type": "markdown",
   "metadata": {},
   "source": [
    "# Влияет ли пол пользователя на наличие премиума?"
   ]
  },
  {
   "cell_type": "code",
   "execution_count": 211,
   "metadata": {},
   "outputs": [],
   "source": [
    "sex_1= portaint_test_df.loc[(portaint_test_df['sex'] == 1) & (portaint_test_df['is_special'] == 1)]\n",
    "sex_2= portaint_test_df.loc[(portaint_test_df['sex'] == 1) & (portaint_test_df['is_special'] != 1)]\n",
    "sex_3= portaint_test_df.loc[(portaint_test_df['sex'] == 0) & (portaint_test_df['is_special'] == 1)]\n",
    "sex_4= portaint_test_df.loc[(portaint_test_df['sex'] == 0) & (portaint_test_df['is_special'] != 1)]"
   ]
  },
  {
   "cell_type": "code",
   "execution_count": 212,
   "metadata": {},
   "outputs": [
    {
     "name": "stderr",
     "output_type": "stream",
     "text": [
      "C:\\Users\\user\\anaconda3\\lib\\site-packages\\pandas\\core\\frame.py:4153: SettingWithCopyWarning: \n",
      "A value is trying to be set on a copy of a slice from a DataFrame\n",
      "\n",
      "See the caveats in the documentation: https://pandas.pydata.org/pandas-docs/stable/user_guide/indexing.html#returning-a-view-versus-a-copy\n",
      "  downcast=downcast,\n"
     ]
    }
   ],
   "source": [
    "sex_1 = sex_1['is_special'].value_counts()\n",
    "sex_2.fillna('1', inplace=True)\n",
    "sex_4.fillna('1', inplace=True)\n",
    "sex_2 = sex_2['is_special'].value_counts()\n",
    "sex_3 = sex_3['is_special'].value_counts()\n",
    "sex_4 = sex_4['is_special'].value_counts()"
   ]
  },
  {
   "cell_type": "code",
   "execution_count": 217,
   "metadata": {},
   "outputs": [
    {
     "data": {
      "image/png": "[encoded data removed]",
      "text/plain": [
       "<Figure size 432x288 with 1 Axes>"
      ]
     },
     "metadata": {
      "needs_background": "light"
     },
     "output_type": "display_data"
    }
   ],
   "source": [
    "sex_2.plot(kind='barh', alpha=0.5, label='Количество пользователей без премиумом', color='grey')\n",
    "sex_1.plot(kind='barh',alpha=0.5, label='Количество пользователей с премиума', color='red')\n",
    "plt.title(\"Пользователи с sex 1\")\n",
    "plt.legend()\n",
    "plt.xlim([0, 200])\n",
    "plt.show()"
   ]
  },
  {
   "cell_type": "code",
   "execution_count": 216,
   "metadata": {},
   "outputs": [
    {
     "data": {
      "image/png": "[encoded data removed]",
      "text/plain": [
       "<Figure size 432x288 with 1 Axes>"
      ]
     },
     "metadata": {
      "needs_background": "light"
     },
     "output_type": "display_data"
    }
   ],
   "source": [
    "sex_4.plot(kind='barh', alpha=0.5, label='Количество пользователей без премиумом', color='grey')\n",
    "sex_3.plot(kind='barh',alpha=0.5, label='Количество пользователей с премиума', color='red')\n",
    "plt.title(\"Пользователи с sex 1\")\n",
    "plt.legend()\n",
    "plt.xlim([0, 10])\n",
    "plt.show()"
   ]
  },
  {
   "cell_type": "markdown",
   "metadata": {},
   "source": [
    "Примерно в 20 раз sex 1 больше чем sex 0, но все таки sex 1 примерно в 2 раза больше купили премиум аккаунт"
   ]
  },
  {
   "cell_type": "code",
   "execution_count": 165,
   "metadata": {},
   "outputs": [],
   "source": [
    "portaint1_df = pd.read_csv(portaint1, sep=';')\n",
    "portaint_test_df = pd.read_csv(portaint_test, sep=';')\n",
    "portaint2_df = pd.read_csv(portaint2, sep=';')"
   ]
  },
  {
   "cell_type": "markdown",
   "metadata": {},
   "source": [
    "# Влияет ли view_count на наличие премиума?"
   ]
  },
  {
   "cell_type": "markdown",
   "metadata": {},
   "source": [
    "Среднее по view_count = 50"
   ]
  },
  {
   "cell_type": "code",
   "execution_count": 220,
   "metadata": {},
   "outputs": [],
   "source": [
    "\n",
    "view_count_1= portaint_test_df.loc[(portaint_test_df['view_count'] > 50) & (portaint_test_df['is_special'] == 1)]\n",
    "view_count_2= portaint_test_df.loc[(portaint_test_df['view_count'] > 50) & (portaint_test_df['is_special'] != 1)]\n",
    "view_count_3= portaint_test_df.loc[(portaint_test_df['view_count'] < 50) & (portaint_test_df['is_special'] == 1)]\n",
    "view_count_4= portaint_test_df.loc[(portaint_test_df['view_count'] < 50) & (portaint_test_df['is_special'] != 1)]"
   ]
  },
  {
   "cell_type": "code",
   "execution_count": 221,
   "metadata": {},
   "outputs": [
    {
     "name": "stderr",
     "output_type": "stream",
     "text": [
      "C:\\Users\\user\\anaconda3\\lib\\site-packages\\pandas\\core\\frame.py:4153: SettingWithCopyWarning: \n",
      "A value is trying to be set on a copy of a slice from a DataFrame\n",
      "\n",
      "See the caveats in the documentation: https://pandas.pydata.org/pandas-docs/stable/user_guide/indexing.html#returning-a-view-versus-a-copy\n",
      "  downcast=downcast,\n"
     ]
    }
   ],
   "source": [
    "view_count_1 = view_count_1['is_special'].value_counts()\n",
    "view_count_2.fillna('1', inplace=True)\n",
    "view_count_4.fillna('1', inplace=True)\n",
    "view_count_2 = view_count_2['is_special'].value_counts()\n",
    "view_count_3 = view_count_3['is_special'].value_counts()\n",
    "view_count_4 = view_count_4['is_special'].value_counts()"
   ]
  },
  {
   "cell_type": "code",
   "execution_count": 222,
   "metadata": {},
   "outputs": [
    {
     "data": {
      "image/png": "[encoded data removed]",
      "text/plain": [
       "<Figure size 432x288 with 1 Axes>"
      ]
     },
     "metadata": {
      "needs_background": "light"
     },
     "output_type": "display_data"
    }
   ],
   "source": [
    "view_count_2.plot(kind='barh', alpha=0.5, label='Количество пользователей без премиумом', color='grey')\n",
    "view_count_1.plot(kind='barh',alpha=0.5, label='Количество пользователей с премиума', color='red')\n",
    "plt.title(\"Пользователи с view_count больше 50\")\n",
    "plt.legend()\n",
    "plt.xlim([0, 550])\n",
    "plt.show()"
   ]
  },
  {
   "cell_type": "code",
   "execution_count": 223,
   "metadata": {},
   "outputs": [
    {
     "data": {
      "image/png": "[encoded data removed]",
      "text/plain": [
       "<Figure size 432x288 with 1 Axes>"
      ]
     },
     "metadata": {
      "needs_background": "light"
     },
     "output_type": "display_data"
    }
   ],
   "source": [
    "view_count_4.plot(kind='barh', alpha=0.5, label='Количество пользователей без премиумом', color='grey')\n",
    "view_count_3.plot(kind='barh',alpha=0.5, label='Количество пользователей с премиума', color='red')\n",
    "plt.title(\"Пользователи с view_count меньше 50\")\n",
    "plt.legend()\n",
    "plt.xlim([0, 528])\n",
    "plt.show()"
   ]
  },
  {
   "cell_type": "markdown",
   "metadata": {},
   "source": [
    "Разница небольша и вдобавок пользователей с view_count меньше 50 значительно больше, поэтому можем сделать вывод что данный признак практически не влияет на преобретение премиума"
   ]
  },
  {
   "cell_type": "markdown",
   "metadata": {},
   "source": [
    "# Влияет ли total_revenue на приобретение премиума?"
   ]
  },
  {
   "cell_type": "markdown",
   "metadata": {},
   "source": [
    "Среднее значение total_revenue = 534"
   ]
  },
  {
   "cell_type": "code",
   "execution_count": 224,
   "metadata": {},
   "outputs": [],
   "source": [
    "total_revenue_1= portaint_test_df.loc[(portaint_test_df['total_revenue'] > 534) & (portaint_test_df['is_special'] == 1)]\n",
    "total_revenue_2= portaint_test_df.loc[(portaint_test_df['total_revenue'] > 534) & (portaint_test_df['is_special'] != 1)]\n",
    "total_revenue_3= portaint_test_df.loc[(portaint_test_df['total_revenue'] < 534) & (portaint_test_df['is_special'] == 1)]\n",
    "total_revenue_4= portaint_test_df.loc[(portaint_test_df['total_revenue'] < 534) & (portaint_test_df['is_special'] != 1)]"
   ]
  },
  {
   "cell_type": "code",
   "execution_count": 225,
   "metadata": {},
   "outputs": [
    {
     "name": "stderr",
     "output_type": "stream",
     "text": [
      "C:\\Users\\user\\anaconda3\\lib\\site-packages\\pandas\\core\\frame.py:4153: SettingWithCopyWarning: \n",
      "A value is trying to be set on a copy of a slice from a DataFrame\n",
      "\n",
      "See the caveats in the documentation: https://pandas.pydata.org/pandas-docs/stable/user_guide/indexing.html#returning-a-view-versus-a-copy\n",
      "  downcast=downcast,\n"
     ]
    }
   ],
   "source": [
    "total_revenue_1 = total_revenue_1['is_special'].value_counts()\n",
    "total_revenue_2.fillna('1', inplace=True)\n",
    "total_revenue_4.fillna('1', inplace=True)\n",
    "total_revenue_2 = total_revenue_2['is_special'].value_counts()\n",
    "total_revenue_3 = total_revenue_3['is_special'].value_counts()\n",
    "total_revenue_4 = total_revenue_4['is_special'].value_counts()"
   ]
  },
  {
   "cell_type": "code",
   "execution_count": 228,
   "metadata": {},
   "outputs": [
    {
     "data": {
      "image/png": "[encoded data removed]",
      "text/plain": [
       "<Figure size 432x288 with 1 Axes>"
      ]
     },
     "metadata": {
      "needs_background": "light"
     },
     "output_type": "display_data"
    }
   ],
   "source": [
    "total_revenue_2.plot(kind='barh', alpha=0.5, label='Количество пользователей без премиумом', color='grey')\n",
    "total_revenue_1.plot(kind='barh',alpha=0.5, label='Количество пользователей с премиума', color='red')\n",
    "plt.title(\"Пользователи с total_revenue больше 534\")\n",
    "plt.legend()\n",
    "plt.xlim([0, 550])\n",
    "plt.show()"
   ]
  },
  {
   "cell_type": "code",
   "execution_count": 229,
   "metadata": {},
   "outputs": [
    {
     "data": {
      "image/png": "[encoded data removed]",
      "text/plain": [
       "<Figure size 432x288 with 1 Axes>"
      ]
     },
     "metadata": {
      "needs_background": "light"
     },
     "output_type": "display_data"
    }
   ],
   "source": [
    "total_revenue_4.plot(kind='barh', alpha=0.5, label='Количество пользователей без премиумом', color='grey')\n",
    "total_revenue_3.plot(kind='barh',alpha=0.5, label='Количество пользователей с премиума', color='red')\n",
    "plt.title(\"Пользователи с total_revenue меньше 534\")\n",
    "plt.legend()\n",
    "plt.xlim([0, 4500])\n",
    "plt.show()"
   ]
  },
  {
   "cell_type": "markdown",
   "metadata": {},
   "source": [
    "total_revenue оказывае очень большое значение на наличие премиума. Тут можно однозначно сказать, что пользователь с total_revenue\n",
    "большей 534 скорее всего купит премиум за удвоенную цены"
   ]
  },
  {
   "cell_type": "markdown",
   "metadata": {},
   "source": [
    "# Итог"
   ]
  },
  {
   "cell_type": "markdown",
   "metadata": {},
   "source": [
    "Пользователь с наличеством coins > 2 или total_revenue > 534 с огромной вероятностью купит нашу премиум подписку по удвоенной цене\n",
    "Так же ES AE и FR (по 1ой контрольной группе) влияют "
   ]
  },
  {
   "cell_type": "code",
   "execution_count": null,
   "metadata": {},
   "outputs": [],
   "source": []
  }
 ],
 "metadata": {
  "kernelspec": {
   "display_name": "Python 3",
   "language": "python",
   "name": "python3"
  },
  "language_info": {
   "codemirror_mode": {
    "name": "ipython",
    "version": 3
   },
   "file_extension": ".py",
   "mimetype": "text/x-python",
   "name": "python",
   "nbconvert_exporter": "python",
   "pygments_lexer": "ipython3",
   "version": "3.7.6"
  }
 },
 "nbformat": 4,
 "nbformat_minor": 4
}
